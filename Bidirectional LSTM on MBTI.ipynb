{
  "nbformat": 4,
  "nbformat_minor": 0,
  "metadata": {
    "colab": {
      "name": "Bidirectional LSTM on MBTI Dataset - Template.ipynb",
      "provenance": [],
      "collapsed_sections": []
    },
    "kernelspec": {
      "name": "python3",
      "display_name": "Python 3"
    },
    "language_info": {
      "name": "python"
    },
    "accelerator": "GPU"
  },
  "cells": [
    {
      "cell_type": "markdown",
      "source": [
        "# Bidirectional LSTM on MBTI Dataset\n"
      ],
      "metadata": {
        "id": "6RYIVig1WVaP"
      }
    },
    {
      "cell_type": "markdown",
      "source": [
        "## Introduction\n",
        "\n",
        "The Myers-Briggs Type Indicator is a commonly used framework that attempts to classify the personality of individuals by assigning them four binary categories, namely introversion/extroversion, intuition/sensory, thinking/feeling, and perceiving/judging. These four categories are then combined to give a four-letter code, such as INTP or ESFJ, giving sixteen possible types overall.\n",
        "\n",
        "Existing methods of determining a person's MBTI type involve the taking of a questionaire, where the responses are then used to determine the type of a person. These tests can be time-consuming. Additionally, questions in such questionaires tend to be repetitive and thus, people's familiarity with the questions and what they attempt to predict could create bias when their responses are entered. Thus, by predicting based off free-form text, we attempt to eliminate this bias while attempting an alternate method of prediction. "
      ],
      "metadata": {
        "id": "Ds1wsh0lWkDe"
      }
    },
    {
      "cell_type": "markdown",
      "source": [
        "## Objective\n",
        "\n",
        "In this project, we attempt to develop a Machine Learning algorithm that can predict the MBTI type of a person based on text they enter into the program. Due to our training data, which is sourced from social media sites, the program is intended to be used with conversational text, such as that from one's messages or emails. By attempting different models, vectorization methods, and methods of prediction, we attempt to obtain the highest possible accuracy. Additionally, by contrasting the different results given by different methods of prediction, we may also gain insight into the machinations of the framework."
      ],
      "metadata": {
        "id": "CQeOXcunWmhi"
      }
    },
    {
      "cell_type": "markdown",
      "source": [
        "## Set-Up and Imports"
      ],
      "metadata": {
        "id": "OolFT4hDWm_h"
      }
    },
    {
      "cell_type": "code",
      "execution_count": 1,
      "metadata": {
        "id": "t4X-gGX_EAUc"
      },
      "outputs": [],
      "source": [
        "import random\n",
        "import pandas as pd\n",
        "from sklearn.model_selection import __________\n",
        "import tensorflow as tf"
      ]
    },
    {
      "cell_type": "markdown",
      "source": [
        "## Load Data"
      ],
      "metadata": {
        "id": "BM1CnPUJW-Nm"
      }
    },
    {
      "cell_type": "code",
      "source": [
        "df = pd.read_csv(\"https://__________________/terminalai/webdev-ai/main/data/mbti.csv\")\n",
        "df = df.sort_values(list(df.columns[1:])+[\"text\"], ignore_index=True)\n",
        "df"
      ],
      "metadata": {
        "colab": {
          "base_uri": "https://localhost:8080/",
          "height": 424
        },
        "id": "NKjPZnswEKdj",
        "outputId": "a72fcf4b-c3aa-42d0-fcf1-2ab29fbc5d73"
      },
      "execution_count": 3,
      "outputs": [
        {
          "output_type": "execute_result",
          "data": {
            "text/plain": [
              "                                                    text  I/E  N/S  T/F  P/J\n",
              "0                                                           0    0    0    0\n",
              "1                                                           0    0    0    0\n",
              "2                                                     9     0    0    0    0\n",
              "3       almost certain close friend mine read austral...    0    0    0    0\n",
              "4       always like keep answers tentative time ive f...    0    0    0    0\n",
              "...                                                  ...  ...  ...  ...  ...\n",
              "31995                            youre younger developed    1    1    1    1\n",
              "31996  yup friend drove hours see exo chicago last mo...    1    1    1    1\n",
              "31997  yup like clean tasteful outfit fits well color...    1    1    1    1\n",
              "31998  yupp id agree theory feusers influenced brough...    1    1    1    1\n",
              "31999                                                NaN    1    1    1    1\n",
              "\n",
              "[32000 rows x 5 columns]"
            ],
            "text/html": [
              "\n",
              "  <div id=\"df-dc1b1fa8-56cb-4f3a-a42c-706dd64808b2\">\n",
              "    <div class=\"colab-df-container\">\n",
              "      <div>\n",
              "<style scoped>\n",
              "    .dataframe tbody tr th:only-of-type {\n",
              "        vertical-align: middle;\n",
              "    }\n",
              "\n",
              "    .dataframe tbody tr th {\n",
              "        vertical-align: top;\n",
              "    }\n",
              "\n",
              "    .dataframe thead th {\n",
              "        text-align: right;\n",
              "    }\n",
              "</style>\n",
              "<table border=\"1\" class=\"dataframe\">\n",
              "  <thead>\n",
              "    <tr style=\"text-align: right;\">\n",
              "      <th></th>\n",
              "      <th>text</th>\n",
              "      <th>I/E</th>\n",
              "      <th>N/S</th>\n",
              "      <th>T/F</th>\n",
              "      <th>P/J</th>\n",
              "    </tr>\n",
              "  </thead>\n",
              "  <tbody>\n",
              "    <tr>\n",
              "      <th>0</th>\n",
              "      <td></td>\n",
              "      <td>0</td>\n",
              "      <td>0</td>\n",
              "      <td>0</td>\n",
              "      <td>0</td>\n",
              "    </tr>\n",
              "    <tr>\n",
              "      <th>1</th>\n",
              "      <td></td>\n",
              "      <td>0</td>\n",
              "      <td>0</td>\n",
              "      <td>0</td>\n",
              "      <td>0</td>\n",
              "    </tr>\n",
              "    <tr>\n",
              "      <th>2</th>\n",
              "      <td>9</td>\n",
              "      <td>0</td>\n",
              "      <td>0</td>\n",
              "      <td>0</td>\n",
              "      <td>0</td>\n",
              "    </tr>\n",
              "    <tr>\n",
              "      <th>3</th>\n",
              "      <td>almost certain close friend mine read austral...</td>\n",
              "      <td>0</td>\n",
              "      <td>0</td>\n",
              "      <td>0</td>\n",
              "      <td>0</td>\n",
              "    </tr>\n",
              "    <tr>\n",
              "      <th>4</th>\n",
              "      <td>always like keep answers tentative time ive f...</td>\n",
              "      <td>0</td>\n",
              "      <td>0</td>\n",
              "      <td>0</td>\n",
              "      <td>0</td>\n",
              "    </tr>\n",
              "    <tr>\n",
              "      <th>...</th>\n",
              "      <td>...</td>\n",
              "      <td>...</td>\n",
              "      <td>...</td>\n",
              "      <td>...</td>\n",
              "      <td>...</td>\n",
              "    </tr>\n",
              "    <tr>\n",
              "      <th>31995</th>\n",
              "      <td>youre younger developed</td>\n",
              "      <td>1</td>\n",
              "      <td>1</td>\n",
              "      <td>1</td>\n",
              "      <td>1</td>\n",
              "    </tr>\n",
              "    <tr>\n",
              "      <th>31996</th>\n",
              "      <td>yup friend drove hours see exo chicago last mo...</td>\n",
              "      <td>1</td>\n",
              "      <td>1</td>\n",
              "      <td>1</td>\n",
              "      <td>1</td>\n",
              "    </tr>\n",
              "    <tr>\n",
              "      <th>31997</th>\n",
              "      <td>yup like clean tasteful outfit fits well color...</td>\n",
              "      <td>1</td>\n",
              "      <td>1</td>\n",
              "      <td>1</td>\n",
              "      <td>1</td>\n",
              "    </tr>\n",
              "    <tr>\n",
              "      <th>31998</th>\n",
              "      <td>yupp id agree theory feusers influenced brough...</td>\n",
              "      <td>1</td>\n",
              "      <td>1</td>\n",
              "      <td>1</td>\n",
              "      <td>1</td>\n",
              "    </tr>\n",
              "    <tr>\n",
              "      <th>31999</th>\n",
              "      <td>NaN</td>\n",
              "      <td>1</td>\n",
              "      <td>1</td>\n",
              "      <td>1</td>\n",
              "      <td>1</td>\n",
              "    </tr>\n",
              "  </tbody>\n",
              "</table>\n",
              "<p>32000 rows × 5 columns</p>\n",
              "</div>\n",
              "      <button class=\"colab-df-convert\" onclick=\"convertToInteractive('df-dc1b1fa8-56cb-4f3a-a42c-706dd64808b2')\"\n",
              "              title=\"Convert this dataframe to an interactive table.\"\n",
              "              style=\"display:none;\">\n",
              "        \n",
              "  <svg xmlns=\"http://www.w3.org/2000/svg\" height=\"24px\"viewBox=\"0 0 24 24\"\n",
              "       width=\"24px\">\n",
              "    <path d=\"M0 0h24v24H0V0z\" fill=\"none\"/>\n",
              "    <path d=\"M18.56 5.44l.94 2.06.94-2.06 2.06-.94-2.06-.94-.94-2.06-.94 2.06-2.06.94zm-11 1L8.5 8.5l.94-2.06 2.06-.94-2.06-.94L8.5 2.5l-.94 2.06-2.06.94zm10 10l.94 2.06.94-2.06 2.06-.94-2.06-.94-.94-2.06-.94 2.06-2.06.94z\"/><path d=\"M17.41 7.96l-1.37-1.37c-.4-.4-.92-.59-1.43-.59-.52 0-1.04.2-1.43.59L10.3 9.45l-7.72 7.72c-.78.78-.78 2.05 0 2.83L4 21.41c.39.39.9.59 1.41.59.51 0 1.02-.2 1.41-.59l7.78-7.78 2.81-2.81c.8-.78.8-2.07 0-2.86zM5.41 20L4 18.59l7.72-7.72 1.47 1.35L5.41 20z\"/>\n",
              "  </svg>\n",
              "      </button>\n",
              "      \n",
              "  <style>\n",
              "    .colab-df-container {\n",
              "      display:flex;\n",
              "      flex-wrap:wrap;\n",
              "      gap: 12px;\n",
              "    }\n",
              "\n",
              "    .colab-df-convert {\n",
              "      background-color: #E8F0FE;\n",
              "      border: none;\n",
              "      border-radius: 50%;\n",
              "      cursor: pointer;\n",
              "      display: none;\n",
              "      fill: #1967D2;\n",
              "      height: 32px;\n",
              "      padding: 0 0 0 0;\n",
              "      width: 32px;\n",
              "    }\n",
              "\n",
              "    .colab-df-convert:hover {\n",
              "      background-color: #E2EBFA;\n",
              "      box-shadow: 0px 1px 2px rgba(60, 64, 67, 0.3), 0px 1px 3px 1px rgba(60, 64, 67, 0.15);\n",
              "      fill: #174EA6;\n",
              "    }\n",
              "\n",
              "    [theme=dark] .colab-df-convert {\n",
              "      background-color: #3B4455;\n",
              "      fill: #D2E3FC;\n",
              "    }\n",
              "\n",
              "    [theme=dark] .colab-df-convert:hover {\n",
              "      background-color: #434B5C;\n",
              "      box-shadow: 0px 1px 3px 1px rgba(0, 0, 0, 0.15);\n",
              "      filter: drop-shadow(0px 1px 2px rgba(0, 0, 0, 0.3));\n",
              "      fill: #FFFFFF;\n",
              "    }\n",
              "  </style>\n",
              "\n",
              "      <script>\n",
              "        const buttonEl =\n",
              "          document.querySelector('#df-dc1b1fa8-56cb-4f3a-a42c-706dd64808b2 button.colab-df-convert');\n",
              "        buttonEl.style.display =\n",
              "          google.colab.kernel.accessAllowed ? 'block' : 'none';\n",
              "\n",
              "        async function convertToInteractive(key) {\n",
              "          const element = document.querySelector('#df-dc1b1fa8-56cb-4f3a-a42c-706dd64808b2');\n",
              "          const dataTable =\n",
              "            await google.colab.kernel.invokeFunction('convertToInteractive',\n",
              "                                                     [key], {});\n",
              "          if (!dataTable) return;\n",
              "\n",
              "          const docLinkHtml = 'Like what you see? Visit the ' +\n",
              "            '<a target=\"_blank\" href=https://colab.research.google.com/notebooks/data_table.ipynb>data table notebook</a>'\n",
              "            + ' to learn more about interactive tables.';\n",
              "          element.innerHTML = '';\n",
              "          dataTable['output_type'] = 'display_data';\n",
              "          await google.colab.output.renderOutput(dataTable, element);\n",
              "          const docLink = document.createElement('div');\n",
              "          docLink.innerHTML = docLinkHtml;\n",
              "          element.appendChild(docLink);\n",
              "        }\n",
              "      </script>\n",
              "    </div>\n",
              "  </div>\n",
              "  "
            ]
          },
          "metadata": {},
          "execution_count": 3
        }
      ]
    },
    {
      "cell_type": "markdown",
      "source": [
        "## Training"
      ],
      "metadata": {
        "id": "mmH2hsieYFBM"
      }
    },
    {
      "cell_type": "markdown",
      "source": [
        "### Prepare variables and split in Train-CV-Test"
      ],
      "metadata": {
        "id": "ebyZyBDsXDRQ"
      }
    },
    {
      "cell_type": "code",
      "source": [
        "x = df[\"text\"].values.astype(str)\n",
        "y = df[[\"I/E\", \"N/S\", \"T/F\", \"P/J\"]]\n",
        "\n",
        "x_train, __________, y_train, y_val = train_test_split(x, y, test_size=0.4)\n",
        "x_val, x_test, y_val, ________ = train_test_split(x_val, y_val, test_size=0.25)\n",
        "\n",
        "tokenizer = tf.keras._________.text.Tokenizer(num_words=2000, oov_token=\"<OOV>\")\n",
        "tokenizer.fit_on_texts(x)\n",
        "\n",
        "x_train = tf.keras.preprocessing.sequence.pad_sequences(tokenizer.texts_to__________(x_train), maxlen=100, padding='post', truncating='post')\n",
        "x_test = tf.keras.preprocessing.sequence.pad_sequences(tokenizer.texts_to_________(x_test), maxlen=100, padding='post', truncating='post')\n",
        "x_val = tf.keras.preprocessing.sequence.pad_sequences(tokenizer.texts_to_________(x_val), maxlen=100, padding='post', truncating='post')"
      ],
      "metadata": {
        "id": "sCKbwMUbEgYb"
      },
      "execution_count": 5,
      "outputs": []
    },
    {
      "cell_type": "markdown",
      "source": [
        "### Model\n",
        "\n",
        "We chose to prepare a Bidirectional LSTM with a Dense Layer and Dropout probabilities of `0.2`."
      ],
      "metadata": {
        "id": "f6eGxj13XN36"
      }
    },
    {
      "cell_type": "code",
      "source": [
        "model = tf.keras.Sequential([\n",
        "    tf.keras.layers.Embedding(_______, 64), # embedding layer\n",
        "    tf.keras.layers.Bidirectional(tf.keras.layers.LSTM(64, dropout=0.2, recurrent_dropout=0.2)), # LSTM layer\n",
        "    tf.keras.layers.Dropout(rate=0.2), # dropout layer\n",
        "    tf.keras.layers.Dense(_________, activation='relu'), # fully connected layer\n",
        "    tf.keras.layers.Dense(4, activation=________) # final layer\n",
        "])\n",
        "\n",
        "model.compile(loss=__________, optimizer='adam', metrics=['accuracy', 'AUC'])\n",
        "\n",
        "model.summary()"
      ],
      "metadata": {
        "colab": {
          "base_uri": "https://localhost:8080/"
        },
        "id": "xFzhtHwmFU1Z",
        "outputId": "2a18a162-9d16-4991-ad29-8d8ab6e64ffe"
      },
      "execution_count": 6,
      "outputs": [
        {
          "output_type": "stream",
          "name": "stdout",
          "text": [
            "WARNING:tensorflow:Layer lstm will not use cuDNN kernels since it doesn't meet the criteria. It will use a generic GPU kernel as fallback when running on GPU.\n",
            "WARNING:tensorflow:Layer lstm will not use cuDNN kernels since it doesn't meet the criteria. It will use a generic GPU kernel as fallback when running on GPU.\n",
            "WARNING:tensorflow:Layer lstm will not use cuDNN kernels since it doesn't meet the criteria. It will use a generic GPU kernel as fallback when running on GPU.\n",
            "Model: \"sequential\"\n",
            "_________________________________________________________________\n",
            " Layer (type)                Output Shape              Param #   \n",
            "=================================================================\n",
            " embedding (Embedding)       (None, None, 64)          128000    \n",
            "                                                                 \n",
            " bidirectional (Bidirectiona  (None, 128)              66048     \n",
            " l)                                                              \n",
            "                                                                 \n",
            " dropout (Dropout)           (None, 128)               0         \n",
            "                                                                 \n",
            " dense (Dense)               (None, 64)                8256      \n",
            "                                                                 \n",
            " dense_1 (Dense)             (None, 4)                 260       \n",
            "                                                                 \n",
            "=================================================================\n",
            "Total params: 202,564\n",
            "Trainable params: 202,564\n",
            "Non-trainable params: 0\n",
            "_________________________________________________________________\n"
          ]
        }
      ]
    },
    {
      "cell_type": "markdown",
      "source": [
        "### Train Model\n",
        "\n",
        "We utilise Early Stopping to make sure the model doesn't overfit on the dataset."
      ],
      "metadata": {
        "id": "IZBE0UZOXRE2"
      }
    },
    {
      "cell_type": "code",
      "source": [
        "early_stopping_monitor = tf.keras.__________.EarlyStopping(patience=2)\n",
        "history = model.fit(x_train, y_train, epochs=10, validation_data=(x_val, y_val), callbacks = [early_stopping_monitor])"
      ],
      "metadata": {
        "colab": {
          "base_uri": "https://localhost:8080/"
        },
        "id": "BBlgwTjPFVWP",
        "outputId": "58d3ddf5-4f83-4c7e-c5e4-7dfda679babc"
      },
      "execution_count": 7,
      "outputs": [
        {
          "output_type": "stream",
          "name": "stdout",
          "text": [
            "Epoch 1/10\n",
            "600/600 [==============================] - 321s 522ms/step - loss: 0.6871 - accuracy: 0.2623 - auc: 0.5429 - val_loss: 0.6827 - val_accuracy: 0.2234 - val_auc: 0.5643\n",
            "Epoch 2/10\n",
            "600/600 [==============================] - 300s 500ms/step - loss: 0.6716 - accuracy: 0.2552 - auc: 0.6047 - val_loss: 0.6802 - val_accuracy: 0.3047 - val_auc: 0.5780\n",
            "Epoch 3/10\n",
            "600/600 [==============================] - 298s 496ms/step - loss: 0.6560 - accuracy: 0.2798 - auc: 0.6449 - val_loss: 0.6845 - val_accuracy: 0.2726 - val_auc: 0.5805\n",
            "Epoch 4/10\n",
            "600/600 [==============================] - 295s 491ms/step - loss: 0.6410 - accuracy: 0.2948 - auc: 0.6742 - val_loss: 0.6918 - val_accuracy: 0.2521 - val_auc: 0.5822\n"
          ]
        }
      ]
    },
    {
      "cell_type": "markdown",
      "source": [
        "## Evaluation"
      ],
      "metadata": {
        "id": "lp3jVZSwXf8_"
      }
    },
    {
      "cell_type": "markdown",
      "source": [
        "### Evaluate Accuracies of Each Variable"
      ],
      "metadata": {
        "id": "wnzTBYb1XrQ5"
      }
    },
    {
      "cell_type": "code",
      "source": [
        "y_pred = pd.DataFrame(model.predict(x_test)._________(), columns=[\"I/E\", \"N/S\", \"T/F\", \"P/J\"]).applymap(int)\n",
        "y_test = y_test.reset_index().drop(columns=[\"index\"])\n",
        "for i in y_test: print(i, (y_pred[i] == y_test[i]).mean())\n",
        "print(\"Overall\", ((y_pred == y_test).sum(axis=1) == 4).mean())"
      ],
      "metadata": {
        "colab": {
          "base_uri": "https://localhost:8080/"
        },
        "id": "rmG_xSmJ1bYX",
        "outputId": "5a9f2eeb-de49-4aa8-b2ea-bcb5e2dd065b"
      },
      "execution_count": 8,
      "outputs": [
        {
          "output_type": "stream",
          "name": "stdout",
          "text": [
            "I/E 0.559375\n",
            "N/S 0.554375\n",
            "T/F 0.5734375\n",
            "P/J 0.5453125\n",
            "Overall 0.1165625\n"
          ]
        }
      ]
    },
    {
      "cell_type": "markdown",
      "source": [
        "### Test Against Random"
      ],
      "metadata": {
        "id": "ck-NmzAiX5gS"
      }
    },
    {
      "cell_type": "code",
      "source": [
        "y_rand = y_test._________(lambda x: random.random()).round().astype(int)\n",
        "for i in y_test: print(i, (y_rand[i] == y_test[i]).mean())\n",
        "print(\"Overall\", ((y_rand == y_test).sum(axis=1) == 4).mean())"
      ],
      "metadata": {
        "colab": {
          "base_uri": "https://localhost:8080/"
        },
        "id": "qkDxRt_U7tLh",
        "outputId": "3744294a-c196-49f8-81db-411422eec970"
      },
      "execution_count": 9,
      "outputs": [
        {
          "output_type": "stream",
          "name": "stdout",
          "text": [
            "I/E 0.50375\n",
            "N/S 0.4834375\n",
            "T/F 0.495\n",
            "P/J 0.47125\n",
            "Overall 0.0571875\n"
          ]
        }
      ]
    },
    {
      "cell_type": "markdown",
      "source": [
        "## Save Model"
      ],
      "metadata": {
        "id": "qmZt926WYB_F"
      }
    },
    {
      "cell_type": "code",
      "source": [
        "!mkdir __________\n",
        "model.save_weights('models/mbti-bdlstm.h5')"
      ],
      "metadata": {
        "id": "cP5E5g1o77MC"
      },
      "execution_count": 10,
      "outputs": []
    }
  ]
}